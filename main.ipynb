{
 "cells": [
  {
   "cell_type": "markdown",
   "metadata": {},
   "source": [
    "# Projet Huffman"
   ]
  },
  {
   "cell_type": "code",
   "execution_count": null,
   "metadata": {},
   "outputs": [],
   "source": []
  },
  {
   "cell_type": "code",
   "execution_count": 2,
   "metadata": {
    "scrolled": true
   },
   "outputs": [],
   "source": [
    "def dico_apparition_par_charactere(texte):\n",
    "    \"\"\"\n",
    "    string -> dict\n",
    "    retourne le dictionnaire du nombre d'apparitions de chaque caractère\n",
    "    \"\"\"\n",
    "    # Dictionnaire de départ\n",
    "    _apc = {}\n",
    "    \n",
    "    # Pour chaque caractère, on regarde s'il est dans le dictionnaire. \n",
    "    # Si oui, on augmente sa valeur\n",
    "    # Si non, on l'initialise à 1\n",
    "    for caractère in texte:\n",
    "        if caractère in _apc:\n",
    "            _apc[caractère] += 1\n",
    "        else:\n",
    "            _apc[caractère] = 1\n",
    "    return _apc\n",
    "\n",
    "assert dico_apparition_par_charactere('') == {}\n",
    "assert dico_apparition_par_charactere('Hello World') == {'H': 1, 'e': 1, 'l': 3, 'o': 2, ' ': 1, 'W': 1, 'r': 1, 'd': 1}\n",
    "assert dico_apparition_par_charactere('aaabbbcccddd') == {'a': 3, 'b' : 3, 'c': 3, 'd': 3}"
   ]
  },
  {
   "cell_type": "markdown",
   "metadata": {},
   "source": [
    "## Classe Arbre\n",
    "\n",
    "Pour répondre au problème, il nous faut un arbre binaire. Mais ici, la structure de l'arbre diffère de celle du cours. En effet, un arbre de Huffman a pour feuilles les lettres du texte auxquelles est associé leur poids. Les autres noeuds parents sont constitués de la somme des poids de leurs enfants."
   ]
  },
  {
   "cell_type": "markdown",
   "metadata": {},
   "source": [
    "### Partie théorique : explications"
   ]
  },
  {
   "cell_type": "markdown",
   "metadata": {},
   "source": [
    "#### Structure\n",
    "\n",
    "Notre classe Arbre devra donc contenir les attributs suivants :\n",
    "\n",
    "- Gauche : le fils gauche (ou None)\n",
    "- Droit : le fils droit (ou None)\n",
    "- Lettre : Pour une feuille, la lettre représentée ; pour les autres noeuds, les lettres de ses enfants (nous reviendrons par la suite sur ce point)\n",
    "- Poids : Pour une feuille, le nombre d'apparitions de la lettre ; pour les autres noeuds, la somme du poids de ses enfants."
   ]
  },
  {
   "cell_type": "markdown",
   "metadata": {},
   "source": [
    "#### Utilisation et définitions\n",
    "\n",
    "Voyons maintenant comment utiliser notre arbre, avec l'exemple ci-dessous qui décompose le texte : 'Hello'.\n",
    "\n",
    "Pour construire un arbre de Huffman, nous devons d'abord partir des feuilles qui sont les différentes lettres, ici : e, o, H, l. Comme ce sont des feuilles, les noeuds représentant ces lettres ont leurs fils à None, et leur poids est leur nombre d'apparitions.\n",
    "\n",
    "La suite de l'abre est très simple : les deux noeuds aux plus petits poids sont assemblés dans un nouveau noeud. Ici, les deux plus petits noeud sont le 'e' et le 'o'. Ils sont donc rassemblés en tant que fils gauche (le plus fréquent, mais ici leurs poiids sont égaux) et fils droit.\n",
    "\n",
    "Le nouveau noeud créer à donc ses fils d'assigné. Mais nous ne préciserons pas, lors de sa création, sa lettre et son poids, car ces valeurs seront calculées automatiquement selon l'idée suivante : le poids est calculé en faisant la somme du poids des deux fils ; la lettre se compose de la concaténation des lettres du fils gauche et du fils droit.\n",
    "\n",
    "Voici un exemple des étapes pour comprendre (toujours avec l'arbre ci-dessous) : \n",
    "\n",
    "1. Les noeuds 'e' et 'o' sont assemblés dans un noeud parent.\n",
    "2. Ce noeud parent se voit attribuer le poids 2 (la somme des poids de 'e' et 'o'.\n",
    "3. Le noeud parent concatène les lettres de ses fils, et sa lettre devient : 'eo'.\n",
    "4. On répète ce processus jusqu'à avoir un seul noeud."
   ]
  },
  {
   "cell_type": "markdown",
   "metadata": {},
   "source": [
    "#### Exemple : arbre du mot 'Hello'"
   ]
  },
  {
   "cell_type": "markdown",
   "metadata": {},
   "source": [
    "![Arbre Huffman Exemple](arbre_exemple_Hello.png)"
   ]
  },
  {
   "cell_type": "markdown",
   "metadata": {},
   "source": [
    "### Partie pratique : implémentation en python\n",
    "\n",
    "Nous pouvons maintenant créer notre classe python Arbre. Le paramètre l (pour lettre) et p (pour poids) auront une valer par défaut. Ainsi, nous les renseigneront s'il s'agit d'une feuille, autrement ils seront calculés automatiquement. Voici la classe Arbre :"
   ]
  },
  {
   "cell_type": "code",
   "execution_count": 36,
   "metadata": {},
   "outputs": [],
   "source": [
    "class Arbre:\n",
    "    \n",
    "    # Le construceur : \n",
    "    # En paramètre (nom complet) : gauche, droite, lettre ('' si non renseigné), poids (-1 si non renseigné)\n",
    "    # Les attributs sont les mêmes qu'énnoncés plus haut.\n",
    "    def __init__(self, g, d,  l='', p=-1):\n",
    "        self.gauche = g\n",
    "        self.lettre = l\n",
    "        self.droit = d\n",
    "        self.poids = p\n",
    "        \n",
    "        # Si le poids vaut -1 c'est qu'il n'a pas été renseigné, il faut donc le calculer.\n",
    "        if p == -1:\n",
    "            self.calculer_poids()\n",
    "            \n",
    "        # Si la lettre vaut '' c'est qu'elle n'a pas été renseignée, il faut donc calculer sa valeur.\n",
    "        if l == '':\n",
    "            self.calculer_lettres()\n",
    "\n",
    "    def fils_gauche(self):\n",
    "        \"\"\"\n",
    "        -> Arbre\n",
    "        Retourne le fils gauche\n",
    "        \"\"\"\n",
    "        return self.gauche\n",
    "\n",
    "    def fils_droit(self):\n",
    "        \"\"\"\n",
    "        -> Arbre\n",
    "        Retourne le fils droit\n",
    "        \"\"\"\n",
    "        return self.droit\n",
    "\n",
    "    def calculer_poids(self):\n",
    "        \"\"\"Calcule le poids d'un noeud (non feuille)\"\"\"\n",
    "        self.poids = 0\n",
    "        if self.gauche is not None:\n",
    "            self.poids += self.fils_gauche().donne_poids()\n",
    "\n",
    "        if self.droit is not None:\n",
    "            self.poids += self.fils_droit().donne_poids()\n",
    "\n",
    "    def calculer_lettres(self):\n",
    "        \"\"\"Calcule la valeur de la lettre du noeud\"\"\"\n",
    "        if self.fils_gauche() is not None:\n",
    "            self.lettre += self.fils_gauche().donnee()\n",
    "        if self.fils_droit() is not None:\n",
    "            self.lettre += self.fils_droit().donnee()\n",
    "\n",
    "    def donne_poids(self):\n",
    "        \"\"\"\n",
    "        -> int\n",
    "        Retourne le poids du noeud\n",
    "        \"\"\"\n",
    "        return self.poids\n",
    "\n",
    "    def donnee(self):\n",
    "        \"\"\"\n",
    "        -> string\n",
    "        Retourne la lettre du noeud\n",
    "        \"\"\"\n",
    "        return self.lettre\n",
    "\n",
    "    def __str__(self):\n",
    "        \"\"\"\n",
    "        -> string\n",
    "        Retourne une chaîne de caractère pour afficher l'arbre à partir de ce noeud\n",
    "        \"\"\"\n",
    "        if self is None:\n",
    "            return 'None'\n",
    "        return '(' + str(self.gauche) + ',' + str(self.droit) + ',' + self.lettre + ',' + str(self.poids) + ')'\n",
    "    \n",
    "    def __eq__(self, other):\n",
    "        \"\"\"\n",
    "        -> bool\n",
    "        Retourne vrai si deux arbres sont identiques, faux sinon\n",
    "        \"\"\"\n",
    "        if self is None and other is None:\n",
    "            return True\n",
    "        return self.donne_poids() == other.donne_poids() and self.fils_droit() == other.fils_droit() and self.fils_gauche() == other.fils_gauche()"
   ]
  },
  {
   "cell_type": "markdown",
   "metadata": {},
   "source": [
    "L'arbre de l'exemple 'Hello' sera créé ainsi :"
   ]
  },
  {
   "cell_type": "code",
   "execution_count": 37,
   "metadata": {},
   "outputs": [
    {
     "name": "stdout",
     "output_type": "stream",
     "text": [
      "((((None,None,e,1),(None,None,o,1),eo,2),(None,None,H,1),eoH,3),(None,None,l,2),eoHl,5)\n"
     ]
    }
   ],
   "source": [
    "noeud_e = Arbre(None, None, 'e', 1) # Lettre e avec 1 apparition\n",
    "noeud_o = Arbre(None, None, 'o', 1) # Lettre o avec 1 apparition\n",
    "noeud_H = Arbre(None, None, 'H', 1) # Lettre H avec 1 apparition\n",
    "noeud_l = Arbre(None, None, 'l', 2) # Lettre l avec 2 apparitions\n",
    "\n",
    "# On ne renseigne pas la lettre et le poids, car leurs valeurs sera calculée automatiquement dans le constructeur\n",
    "noeud_parent_eo = Arbre(noeud_e, noeud_o)\n",
    "noeud_parent_eoH = Arbre(noeud_parent_eo, noeud_H)\n",
    "arbre_eoHl = Arbre(noeud_parent_eoH, noeud_l)\n",
    "\n",
    "# On appelle la méthode __str__ pour afficher l'arbre\n",
    "print(arbre_eoHl)"
   ]
  },
  {
   "cell_type": "markdown",
   "metadata": {},
   "source": [
    "## Algorithme\n",
    "\n",
    "#### A la recherche du minimum\n",
    "\n",
    "Pour créer un arbre de Huffman, comme énoncé plus haut, nous devons au début de chaque cycle d'étape chercher les 2 noeuds qui on les plus petits poids. Pour se faire, nous allons créer une liste, triée par ordre décroissante, des feuilles de notre future arbre de Huffman. \n",
    "\n",
    "Commençons donc par rechercher la lettre maximum. Nous créerons ensuite le tableau.\n",
    "\n",
    "Notre fonction `item_minimal_dans_dict` va donc, à partir d'un dictionnaire d'apparitions par lettre, retourner la lettre la plus fréquente ainsi que son poids. Nous utilisons pour cela la fonction `dico_apparition_par_charactere` créée plus haut."
   ]
  },
  {
   "cell_type": "code",
   "execution_count": 38,
   "metadata": {},
   "outputs": [],
   "source": [
    "def item_maximal_dans_dict(dict_de_lettres):\n",
    "    \"\"\"\n",
    "    dict -> string, int\n",
    "    Retourne la lettre la plus fréquente ainsi que son poids à partir d'un dictionnaire d'apparations par lettre.\n",
    "    \"\"\"\n",
    "    lettre = ''\n",
    "    poids_max = 0\n",
    "    for _lettre, apparition in dict_de_lettres.items():\n",
    "        if apparition > poids_max:\n",
    "            poids_max = apparition\n",
    "            lettre = _lettre\n",
    "    return lettre, poids_max\n",
    "\n",
    "dictionnaire = dico_apparition_par_charactere('Hello')\n",
    "assert item_maximal_dans_dict(dictionnaire) == ('l', 2)\n",
    "\n",
    "dictionnaire = dico_apparition_par_charactere('e abcd eeeee')\n",
    "assert item_maximal_dans_dict(dictionnaire) == ('e', 6)\n",
    "\n",
    "dictionnaire = dico_apparition_par_charactere('')\n",
    "assert item_maximal_dans_dict(dictionnaire) == ('', 0)"
   ]
  },
  {
   "cell_type": "markdown",
   "metadata": {},
   "source": [
    "#### Création d'un tableau d'arbre\n",
    "\n",
    "Maintenant que nous pouvons avoir le caractère le plus fréquent, nous pouvons créer une liste, dans laquelle seront triés par ordre croissant de leurs poids les feuilles de notre futur arbre de Huffman.\n",
    "\n",
    "Pour cela, utilisons notre classe `Arbre` et créons autant de feuilles que de charactères dans le dictionnaire d'apparitions, en recherchant toujours le maximum. Nous le faisons ici de manière récursive, en supprimant à chaque fois l'élément le plus fréquent du dictionnaire à l'aide de la function `pop()` définie par défaut. \n",
    "\n",
    "La magie de l'ordre croissant est possible grâce à l'appel récursif, dans lequel nous ajoutons la valeur `arbre` trouvée (c'est-à-dire la maximale) à la fin du tableau."
   ]
  },
  {
   "cell_type": "code",
   "execution_count": 47,
   "metadata": {},
   "outputs": [],
   "source": [
    "def creation_liste_arbres(dict_de_lettres):\n",
    "    \"\"\"\n",
    "    dict -> list\n",
    "    Retourne une liste d'arbre des lettres du dictionnaire, triée par ordre décroissant du poids.\n",
    "    \"\"\"\n",
    "    \n",
    "    if len(dict_de_lettres) > 0:\n",
    "        \n",
    "        # Recherche de l'élément le plus fréquent\n",
    "        lettre, poids = item_maximal_dans_dict(dict_de_lettres)\n",
    "\n",
    "        # Création de la feuille : \n",
    "        # - les fils ont pour valeur None (définition d'une feuille)\n",
    "        # - la lettre est celle trouvée ci-dessus (la plus fréquente)\n",
    "        # - le poids est la valeur du dictionnaire associée à la lettre (la lettre est la clé, le poids la valeur)\n",
    "        arbre = Arbre(None, None, lettre, dict_de_lettres[lettre])\n",
    "\n",
    "        # L'élément le plus fréquent est supprimé\n",
    "        dict_de_lettres.pop(lettre)\n",
    "\n",
    "        # Création de la liste\n",
    "        L = creation_liste_arbres(dict_de_lettres) + [arbre]\n",
    "        \n",
    "        # L'élément le plus fréquent (supprimé ci-dessus) est remis dans le dictionnaire\n",
    "        dict_de_lettres[lettre] = poids\n",
    "        \n",
    "        # Retour de la liste\n",
    "        return L\n",
    "    else:\n",
    "        return []\n",
    "\n",
    "dictionnaire = dico_apparition_par_charactere('Hello')\n",
    "liste = [Arbre(None, None, 'o',1), Arbre(None, None,'e',1), Arbre(None, None,'H',1), Arbre(None, None,'l',2)]\n",
    "\n",
    "assert creation_liste_arbres(dico_apparition_par_charactere('Hello')) == liste"
   ]
  },
  {
   "cell_type": "markdown",
   "metadata": {},
   "source": [
    "#### Création de l'arbre de Huffman\n",
    "\n",
    "Nous avons maintenant tous les éléments nécessaires pour créer notre arbre de Huffman. Le principe de la création est simple : \n",
    "\n",
    "- on cherche les deux feuilles qui ont le plus petit poids, qui sont donc les deux premières du tableau renvoyé par `creation_liste_arbres`\n",
    "- on les assemble dans un nouvel arbre que l'on ajoute à la liste"
   ]
  },
  {
   "cell_type": "code",
   "execution_count": null,
   "metadata": {},
   "outputs": [],
   "source": [
    "def creation_arbre_huffman(tab_arbre):\n",
    "    arbre = None\n",
    "\n",
    "    # arbre initial\n",
    "    smaller1 = tab_arbre.pop(0)\n",
    "    smaller2 = tab_arbre.pop(0)\n",
    "    arbre = Arbre(smaller2, smaller1)\n",
    "    tab_arbre.append(arbre)\n",
    "\n",
    "    while len(tab_arbre) > 2:\n",
    "        arbre1, tab_arbre = supprime_et_retourne_minimal_tab_arbre(tab_arbre)\n",
    "        arbre2, tab_arbre = supprime_et_retourne_minimal_tab_arbre(tab_arbre)\n",
    "        _arbre = Arbre(arbre2, arbre1)\n",
    "        tab_arbre.append(_arbre)\n",
    "\n",
    "    fd, tab_arbre = supprime_et_retourne_minimal_tab_arbre(tab_arbre)\n",
    "    fg, tab_arbre = supprime_et_retourne_minimal_tab_arbre(tab_arbre)\n",
    "    return Arbre(fg, fd)"
   ]
  }
 ],
 "metadata": {
  "kernelspec": {
   "display_name": "Python 3",
   "language": "python",
   "name": "python3"
  },
  "language_info": {
   "codemirror_mode": {
    "name": "ipython",
    "version": 3
   },
   "file_extension": ".py",
   "mimetype": "text/x-python",
   "name": "python",
   "nbconvert_exporter": "python",
   "pygments_lexer": "ipython3",
   "version": "3.8.3rc1"
  }
 },
 "nbformat": 4,
 "nbformat_minor": 4
}

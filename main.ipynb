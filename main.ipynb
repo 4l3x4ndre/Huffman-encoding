{
 "cells": [
  {
   "cell_type": "markdown",
   "metadata": {},
   "source": [
    "# Projet Huffman"
   ]
  },
  {
   "cell_type": "code",
   "execution_count": null,
   "metadata": {},
   "outputs": [],
   "source": []
  },
  {
   "cell_type": "code",
   "execution_count": 10,
   "metadata": {
    "scrolled": true
   },
   "outputs": [],
   "source": [
    "def apparition_par_charactere(texte):\n",
    "    \"\"\"\n",
    "    string -> dict\n",
    "    retourne le dictionnaire du nombre d'apparitions de chaque caractère\n",
    "    \"\"\"\n",
    "    # Dictionnaire de départ\n",
    "    _apc = {}\n",
    "    \n",
    "    # Pour chaque caractère, on regarde s'il est dans le dictionnaire. \n",
    "    # Si oui, on augmente sa valeur\n",
    "    # Si non, on l'initialise à 1\n",
    "    for caractère in texte:\n",
    "        if caractère in _apc:\n",
    "            _apc[caractère] += 1\n",
    "        else:\n",
    "            _apc[caractère] = 1\n",
    "    return _apc\n",
    "\n",
    "assert apparition_par_charactere('') == {}\n",
    "assert apparition_par_charactere('Hello World') == {'H': 1, 'e': 1, 'l': 3, 'o': 2, ' ': 1, 'W': 1, 'r': 1, 'd': 1}\n",
    "assert apparition_par_charactere('aaabbbcccddd') == {'a': 3, 'b' : 3, 'c': 3, 'd': 3}"
   ]
  },
  {
   "cell_type": "markdown",
   "metadata": {},
   "source": [
    "## Classe Arbre\n",
    "\n",
    "Pour répondre au problème, il nous faut un arbre binaire. Mais ici, la structure de l'arbre diffère de celle du cours. En effet, un arbre de Huffman a pour feuilles les lettres du texte auxquelles est associé leur poids. Les autres noeuds parents sont constitués de la somme des poids de leurs enfants."
   ]
  },
  {
   "cell_type": "markdown",
   "metadata": {},
   "source": [
    "### Partie théorique : explications"
   ]
  },
  {
   "cell_type": "markdown",
   "metadata": {},
   "source": [
    "#### Structure\n",
    "\n",
    "Notre classe Arbre devra donc contenir les attributs suivants :\n",
    "\n",
    "- Gauche : le fils gauche (ou None)\n",
    "- Droit : le fils droit (ou None)\n",
    "- Lettre : Pour une feuille, la lettre représentée ; pour les autres noeuds, les lettres de ses enfants (nous reviendrons par la suite sur ce point)\n",
    "- Poids : Pour une feuille, le nombre d'apparitions de la lettre ; pour les autres noeuds, la somme du poids de ses enfants."
   ]
  },
  {
   "cell_type": "markdown",
   "metadata": {},
   "source": [
    "#### Utilisation et définitions\n",
    "\n",
    "Voyons maintenant comment utiliser notre arbre, avec l'exemple ci-dessous qui décompose le texte : 'Hello'.\n",
    "\n",
    "Pour construire un arbre de Huffman, nous devons d'abord partir des feuilles qui sont les différentes lettres, ici : e, o, H, l. Comme ce sont des feuilles, les noeuds représentant ces lettres ont leurs fils à None, et leur poids est leur nombre d'apparitions.\n",
    "\n",
    "La suite de l'abre est très simple : les deux noeuds aux plus petits poids sont assemblés dans un nouveau noeud. Ici, les deux plus petits noeud sont le 'e' et le 'o'. Ils sont donc rassemblés en tant que fils gauche (le plus fréquent, mais ici leurs poiids sont égaux) et fils droit.\n",
    "\n",
    "Le nouveau noeud créer à donc ses fils d'assigné. Mais nous ne préciserons pas, lors de sa création, sa lettre et son poids, car ces valeurs seront calculées automatiquement selon l'idée suivante : le poids est calculé en faisant la somme du poids des deux fils ; la lettre se compose de la concaténation des lettres du fils gauche et du fils droit.\n",
    "\n",
    "Voici un exemple des étapes pour comprendre (toujours avec l'arbre ci-dessous) : \n",
    "\n",
    "1. Les noeuds 'e' et 'o' sont assemblés dans un noeud parent.\n",
    "2. Ce noeud parent se voit attribuer le poids 2 (la somme des poids de 'e' et 'o'.\n",
    "3. Le noeud parent concatène les lettres de ses fils, et sa lettre devient : 'eo'.\n",
    "4. On répète ce processus jusqu'à avoir un seul noeud."
   ]
  },
  {
   "cell_type": "markdown",
   "metadata": {},
   "source": [
    "#### Exemple : arbre du mot 'Hello'"
   ]
  },
  {
   "cell_type": "markdown",
   "metadata": {},
   "source": [
    "![Arbre Huffman Exemple](arbre_exemple_Hello.png)"
   ]
  },
  {
   "cell_type": "markdown",
   "metadata": {},
   "source": [
    "### Partie pratique : implémentation en python\n",
    "\n",
    "Nous pouvons maintenant créer notre classe python Arbre. Le paramètre l (pour lettre) et p (pour poids) auront une valer par défaut. Ainsi, nous les renseigneront s'il s'agit d'une feuille, autrement ils seront calculés automatiquement. Voici la classe Arbre :"
   ]
  },
  {
   "cell_type": "code",
   "execution_count": 12,
   "metadata": {},
   "outputs": [],
   "source": [
    "class Arbre:\n",
    "    \n",
    "    # Le construceur : \n",
    "    # En paramètre (nom complet) : gauche, droite, lettre ('' si non renseigné), poids (-1 si non renseigné)\n",
    "    # Les attributs sont les même qu'énnoncé plus haut.\n",
    "    def __init__(self, g, d,  l='', p=-1):\n",
    "        self.gauche = g\n",
    "        self.lettre = l\n",
    "        self.droit = d\n",
    "        self.poids = p\n",
    "        \n",
    "        # Si le poids vaut -1 c'est qu'il n'a pas été renseigné, il faut donc le calculer.\n",
    "        if p == -1:\n",
    "            self.calculer_poids()\n",
    "            \n",
    "        # Si la lettre faut '' c'est qu'elle n'a pas été renseignée, il faut donc calculer sa valeur.\n",
    "        if l == '':\n",
    "            self.calculer_lettres()\n",
    "\n",
    "    def enfant_gauche(self):\n",
    "        \"\"\"\n",
    "        -> Arbre\n",
    "        Retourne l'enfant gauche\n",
    "        \"\"\"\n",
    "        return self.gauche\n",
    "\n",
    "    def enfant_droit(self):\n",
    "        \"\"\"\n",
    "        -> Arbre\n",
    "        Retourne l'enfant droit\n",
    "        \"\"\"\n",
    "        return self.droit\n",
    "\n",
    "    def calculer_poids(self):\n",
    "        \"\"\"Calcule le poids d'un noeud (non feuille)\"\"\"\n",
    "        self.poids = 0\n",
    "        if self.gauche is not None:\n",
    "            self.poids += self.gauche.poids\n",
    "\n",
    "        if self.droit is not None:\n",
    "            self.poids += self.droit.poids\n",
    "\n",
    "    def calculer_lettres(self):\n",
    "        \"\"\"Calcule la valeur de la lettre du noeud\"\"\"\n",
    "        if self.enfant_gauche() is not None:\n",
    "            self.lettre += self.enfant_gauche().donnee()\n",
    "        if self.enfant_droit() is not None:\n",
    "            self.lettre += self.enfant_droit().donnee()\n",
    "\n",
    "    def donne_poids(self):\n",
    "        \"\"\"\n",
    "        -> int\n",
    "        Retourne le poids du noeud\n",
    "        \"\"\"\n",
    "        return self.poids\n",
    "\n",
    "    def donnee(self):\n",
    "        \"\"\"\n",
    "        -> string\n",
    "        Retourne la lettre du noeud\n",
    "        \"\"\"\n",
    "        return self.lettre\n",
    "\n",
    "    def __str__(self):\n",
    "        \"\"\"\n",
    "        -> string\n",
    "        Retourne une chaîne de caractère pour afficher l'arbre à partir de ce noeud\n",
    "        \"\"\"\n",
    "        if self is None:\n",
    "            return 'None'\n",
    "        return '(' + str(self.gauche) + ',' + self.lettre + ',' + str(self.poids) + ',' + str(self.droit) + ')'"
   ]
  },
  {
   "cell_type": "code",
   "execution_count": null,
   "metadata": {},
   "outputs": [],
   "source": []
  },
  {
   "cell_type": "code",
   "execution_count": null,
   "metadata": {},
   "outputs": [],
   "source": []
  }
 ],
 "metadata": {
  "kernelspec": {
   "display_name": "Python 3",
   "language": "python",
   "name": "python3"
  },
  "language_info": {
   "codemirror_mode": {
    "name": "ipython",
    "version": 3
   },
   "file_extension": ".py",
   "mimetype": "text/x-python",
   "name": "python",
   "nbconvert_exporter": "python",
   "pygments_lexer": "ipython3",
   "version": "3.8.3rc1"
  }
 },
 "nbformat": 4,
 "nbformat_minor": 4
}

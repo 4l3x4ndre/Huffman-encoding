{
 "cells": [
  {
   "cell_type": "markdown",
   "metadata": {},
   "source": [
    "# Projet Huffman\n",
    "\n",
    "1. [Introduction](#intro)\n",
    "2. [Fréquence](#frq)\n",
    "3. [Classe Arbre](#p1)\n",
    "4. [Algorithme de création d'un arbre de Huffman](#2)\n",
    "5. [Encodage et Décodage](#3)\n",
    "6. [Fonctions principales](#4)\n",
    "7. [Pour aller plus loin](#5)\n",
    "7. [Conclusion](#ccl)\n",
    "\n",
    "## Introduction <a name=\"intro\"></a>"
   ]
  },
  {
   "cell_type": "markdown",
   "metadata": {},
   "source": [
    "Ce projet tient à recréer le système d'encodage proposé par David Albert Huffman en 1952. Le principe est décrit dans notre cours. Pour les personnes extrérieures, voici l'intruction de la page [Wikipédia](https://fr.wikipedia.org/wiki/Codage_de_Huffman) à ce sujet : \n",
    "\n",
    ">Le codage de Huffman est un algorithme de compression de données sans perte. Le codage de Huffman utilise un code à longueur variable pour représenter un symbole de la source (par exemple un caractère dans un fichier). Le code est déterminé à partir d'une estimation des probabilités d'apparition des symboles de source, un code court étant associé aux symboles de source les plus fréquents.\n",
    ">\n",
    ">Un code de Huffman est optimal au sens de la plus courte longueur pour un codage par symbole, et une distribution de probabilité connue. Des méthodes plus complexes réalisant une modélisation probabiliste de la source permettent d'obtenir de meilleurs ratios de compression. "
   ]
  },
  {
   "cell_type": "markdown",
   "metadata": {},
   "source": [
    "### Fréquence des caractères <a name=\"frq\"></a>\n",
    "\n",
    "Ou plutôt nombre d'apparitions. En effet, le système commence par calculer, pour chaque caractère, le nombre de fois qu'il apparaît dans le texte. Nous allon utiliser pour cela un dictionnaire, avec pour clé le caractère et comme valeur son nombre d'apparitions dans le texte."
   ]
  },
  {
   "cell_type": "code",
   "execution_count": 155,
   "metadata": {
    "scrolled": true
   },
   "outputs": [],
   "source": [
    "def dico_apparition_par_charactere(texte):\n",
    "    \"\"\"\n",
    "    string -> dict\n",
    "    Retourne le dictionnaire du nombre d'apparitions de chaque caractère.\n",
    "    \"\"\"\n",
    "    # Dictionnaire de départ\n",
    "    dict_apparition = {}\n",
    "    \n",
    "    # Pour chaque caractère...\n",
    "    for caractère in texte:\n",
    "        \n",
    "        # ...on regarde s'il est dans le dictionnaire. \n",
    "        if caractère in dict_apparition:\n",
    "            # Si oui, on augmente sa valeur\n",
    "            dict_apparition[caractère] += 1\n",
    "        else:\n",
    "            # Si non, on l'initialise à 1\n",
    "            dict_apparition[caractère] = 1\n",
    "            \n",
    "    return dict_apparition\n",
    "\n",
    "assert dico_apparition_par_charactere('') == {}\n",
    "assert dico_apparition_par_charactere('Hello World') == {'H': 1, 'e': 1, 'l': 3, 'o': 2, ' ': 1, 'W': 1, 'r': 1, 'd': 1}\n",
    "assert dico_apparition_par_charactere('aaabbbcccddd') == {'a': 3, 'b' : 3, 'c': 3, 'd': 3}\n",
    "assert dico_apparition_par_charactere('Hello') == {'H': 1, 'e': 1, 'l': 2, 'o': 1}"
   ]
  },
  {
   "cell_type": "markdown",
   "metadata": {},
   "source": [
    "## Partie 1 : Classe Arbre <a name=\"p1\"></a>\n",
    "\n",
    "Pour répondre au problème, il nous faut un arbre binaire. Mais ici, la structure de l'arbre diffère de celle du cours. En effet, un arbre de Huffman a pour feuilles les lettres du texte auxquelles est associé leur poids (c'est-à-dire son nombre d'occurences). Les autres noeuds parents sont constitués de la somme des poids de leurs enfants."
   ]
  },
  {
   "cell_type": "markdown",
   "metadata": {},
   "source": [
    "### Partie théorique : explications"
   ]
  },
  {
   "cell_type": "markdown",
   "metadata": {},
   "source": [
    "#### Structure\n",
    "\n",
    "Notre classe Arbre devra donc contenir les attributs suivants :\n",
    "\n",
    "- Gauche : le fils gauche (ou None)\n",
    "- Droit : le fils droit (ou None)\n",
    "- Lettre : Pour une feuille, la lettre représentée ; pour les autres noeuds, les lettres de ses enfants (nous reviendrons par la suite sur ce point)\n",
    "- Poids : Pour une feuille, le nombre d'apparitions de la lettre ; pour les autres noeuds, la somme du poids de ses enfants."
   ]
  },
  {
   "cell_type": "markdown",
   "metadata": {},
   "source": [
    "#### Utilisation et définitions\n",
    "\n",
    "Voyons maintenant comment utiliser notre arbre, avec le schéma ci-dessous qui décompose le texte : 'Hello'.\n",
    "\n",
    "Pour construire un arbre de Huffman, nous devons d'abord partir des feuilles qui sont les différentes lettres, ici : H, e, l, o. Comme ce sont des feuilles, les noeuds représentant ces lettres ont leurs fils à None, et leur poids est leur nombre d'apparitions (ou d'occurences).\n",
    "\n",
    "La suite de l'abre est très simple : les deux noeuds aux plus petits poids sont assemblés dans un nouveau noeud. Ici, les deux plus petits noeuds sont le 'e' et le 'H'. Ils sont donc rassemblés en tant que fils gauche (le plus fréquent, mais ici leurs poids sont égaux) et fils droit.\n",
    "\n",
    "Le nouveau noeud créé a donc ses fils d'assignés. Mais nous ne préciserons pas, lors de sa création, sa lettre et son poids, car ces valeurs seront calculées automatiquement selon l'idée suivante : le poids est calculé en faisant la somme du poids des deux fils ; la lettre se compose de la concaténation des lettres du fils gauche et du fils droit (ce qui nous permettra par la suite de retrouver le chemin des lettres).\n",
    "\n",
    "Voici un exemple des étapes pour comprendre (toujours avec l'arbre ci-dessous) : \n",
    "<ol>\n",
    "    <li>Les noeuds 'e' et 'H' sont assemblés dans un noeud parent.</li>\n",
    "    <li>Ce noeud parent se voit attribuer le poids 2 (la somme des poids de 'e' et 'H').</li>\n",
    "    <li>Le noeud parent concatène les lettres de ses fils, et sa lettre devient : 'eH'.</li>\n",
    "    <li>On répète ce processus jusqu'à avoir un seul noeud.</li>\n",
    "</ol>"
   ]
  },
  {
   "cell_type": "markdown",
   "metadata": {},
   "source": [
    "#### Exemple : arbre du mot 'Hello'"
   ]
  },
  {
   "cell_type": "markdown",
   "metadata": {},
   "source": [
    "![Arbre Huffman Exemple](arbre_exemple_Hello.png)"
   ]
  },
  {
   "cell_type": "markdown",
   "metadata": {},
   "source": [
    "### Partie pratique : implémentation en python\n",
    "\n",
    "Nous pouvons maintenant créer notre classe python `Arbre`. Le paramètre l (pour lettre) et p (pour poids) auront une valeur par défaut. Ainsi, nous les renseignerons s'il s'agit d'une feuille, autrement ils seront calculés automatiquement. Voici donc la classe `Arbre` :"
   ]
  },
  {
   "cell_type": "code",
   "execution_count": 146,
   "metadata": {},
   "outputs": [],
   "source": [
    "class Arbre:\n",
    "    \n",
    "    # Le construceur : \n",
    "    # En paramètre (nom complet) : gauche, droite, lettre ('' si non renseignée), poids (-1 si non renseigné)\n",
    "    # Les attributs sont les mêmes qu'énnoncés plus haut.\n",
    "    def __init__(self, g, d,  l='', p=-1):\n",
    "        \"\"\"\n",
    "        Création de l'Arbre.\n",
    "        \"\"\"\n",
    "        self.gauche = g\n",
    "        self.lettre = l\n",
    "        self.droit = d\n",
    "        self.poids = p\n",
    "        \n",
    "        # Si le poids vaut -1, alors il n'a pas été renseigné, il faut donc le calculer.\n",
    "        if p == -1:\n",
    "            self.calculer_poids()\n",
    "            \n",
    "        # Si la lettre vaut '', alors elle n'a pas été renseignée, il faut donc calculer sa valeur.\n",
    "        if l == '':\n",
    "            self.calculer_lettres()\n",
    "\n",
    "    def fils_gauche(self):\n",
    "        \"\"\"\n",
    "        -> Arbre\n",
    "        Retourne le fils gauche.\n",
    "        \"\"\"\n",
    "        return self.gauche\n",
    "\n",
    "    def fils_droit(self):\n",
    "        \"\"\"\n",
    "        -> Arbre\n",
    "        Retourne le fils droit.\n",
    "        \"\"\"\n",
    "        return self.droit\n",
    "\n",
    "    def calculer_poids(self):\n",
    "        \"\"\"Calcule le poids d'un noeud (pour un noeud non feuille) à partir de la somme du poids de ses fils.\"\"\"\n",
    "        self.poids = 0\n",
    "        if self.gauche is not None:\n",
    "            self.poids += self.fils_gauche().donne_poids()\n",
    "\n",
    "        if self.droit is not None:\n",
    "            self.poids += self.fils_droit().donne_poids()\n",
    "\n",
    "    def calculer_lettres(self):\n",
    "        \"\"\"Calcule la valeur de la lettre du noeud en concaténant les lettres de ses fils.\"\"\"\n",
    "        if self.fils_gauche() is not None:\n",
    "            self.lettre += self.fils_gauche().donnee()\n",
    "        if self.fils_droit() is not None:\n",
    "            self.lettre += self.fils_droit().donnee()\n",
    "\n",
    "    def donne_poids(self):\n",
    "        \"\"\"\n",
    "        -> int\n",
    "        Retourne le poids du noeud.\n",
    "        \"\"\"\n",
    "        return self.poids\n",
    "\n",
    "    def donnee(self):\n",
    "        \"\"\"\n",
    "        -> string\n",
    "        Retourne la lettre du noeud.\n",
    "        \"\"\"\n",
    "        return self.lettre\n",
    "\n",
    "    def __str__(self):\n",
    "        \"\"\"\n",
    "        -> string\n",
    "        Retourne une chaîne de caractères pour afficher l'arbre à partir de ce noeud.\n",
    "        \"\"\"\n",
    "        \n",
    "        # Cas de base pour la récursivité\n",
    "        if self is None:\n",
    "            return 'None'\n",
    "        \n",
    "        return '(' + str(self.gauche) + ',' + str(self.droit) + ',' + self.lettre + ',' + str(self.poids) + ')'\n",
    "    \n",
    "    def __eq__(self, other):\n",
    "        \"\"\"\n",
    "        -> bool\n",
    "        Retourne vrai si deux arbres sont identiques, faux sinon.\n",
    "        \"\"\"\n",
    "        # Cas de base pour la récursivité\n",
    "        if self is None and other is None:\n",
    "            return True\n",
    "        \n",
    "        return self.donne_poids() == other.donne_poids() and self.fils_droit() == other.fils_droit() and self.fils_gauche() == other.fils_gauche()"
   ]
  },
  {
   "cell_type": "markdown",
   "metadata": {},
   "source": [
    "L'arbre de l'exemple 'Hello' sera créé ainsi :"
   ]
  },
  {
   "cell_type": "code",
   "execution_count": 149,
   "metadata": {},
   "outputs": [
    {
     "name": "stdout",
     "output_type": "stream",
     "text": [
      "((((None,None,e,1),(None,None,H,1),eH,2),(None,None,o,1),eHo,3),(None,None,l,2),eHol,5)\n"
     ]
    }
   ],
   "source": [
    "noeud_e = Arbre(None, None, 'e', 1) # Lettre e avec 1 apparition\n",
    "noeud_o = Arbre(None, None, 'o', 1) # Lettre o avec 1 apparition\n",
    "noeud_H = Arbre(None, None, 'H', 1) # Lettre H avec 1 apparition\n",
    "noeud_l = Arbre(None, None, 'l', 2) # Lettre l avec 2 apparitions\n",
    "\n",
    "# Lors de la création des noeuds parents, on ne renseigne pas la lettre et le poids, \n",
    "# car leurs valeurs seront calculées automatiquement dans le constructeur.\n",
    "noeud_parent_eH = Arbre(noeud_e, noeud_H)\n",
    "noeud_parent_eHo = Arbre(noeud_parent_eH, noeud_o)\n",
    "arbre_eHol = Arbre(noeud_parent_eHo, noeud_l)\n",
    "\n",
    "# On appelle la méthode __str__ pour afficher l'arbre.\n",
    "print(arbre_eHol)"
   ]
  },
  {
   "cell_type": "markdown",
   "metadata": {},
   "source": [
    "## Partie 2 : Algorithme de création d'un arbre de Huffman <a name=\"2\"></a>"
   ]
  },
  {
   "cell_type": "markdown",
   "metadata": {},
   "source": [
    "#### A. Création d'un tableau d'arbre\n",
    "\n",
    "Afin de créer notre arbre de Huffman, nous pouvons nous aider d'un tableau de feuilles, c'est-à-dire des noeuds qui représentent les lettres du texte. Il nous suffira alors de parcourir ce tableau d'une certaine façon pour créer notre arbre.\n",
    "\n",
    "Pour cela, utilisons notre classe `Arbre` et créons autant de feuilles que de caractères dans le dictionnaire d'apparitions. Nous le faisons ici de manière récursive, en supprimant à chaque fois l'élément le plus fréquent du dictionnaire à l'aide de la function `pop()` définie par défaut. "
   ]
  },
  {
   "cell_type": "code",
   "execution_count": 170,
   "metadata": {},
   "outputs": [],
   "source": [
    "def creation_liste_arbres(dict_de_lettres):\n",
    "    \"\"\"\n",
    "    dict -> list\n",
    "    Retourne une liste d'arbre contenant les lettres du dictionnaire.\n",
    "    \"\"\"\n",
    "    \n",
    "    # Cas de base pour la récursivité\n",
    "    if len(dict_de_lettres) == 0:\n",
    "        return []\n",
    "    \n",
    "    # Conversion du dictionnaire en tableau\n",
    "    else:\n",
    "        \n",
    "        # Sélection du premier élément du dictionnaire\n",
    "        # (nous utilisons 'list()' pour convertir la liste d'éléments en tableau et pouvoir utiliser l'index '[0]').\n",
    "        lettre, poids = list(dict_de_lettres.items())[0]\n",
    "\n",
    "        # Création de la feuille : \n",
    "        # - les fils ont pour valeur None (définition d'une feuille)\n",
    "        # - la lettre est celle trouvée ci-dessus\n",
    "        # - le poids est également trouvé ci-dessus\n",
    "        arbre = Arbre(None, None, lettre, poids)\n",
    "\n",
    "        # Cet élément du dictionnaire est supprimé, pour effectuer la récursivité.\n",
    "        dict_de_lettres.pop(lettre)\n",
    "\n",
    "        # Création de la liste de manière récursive, en rappelant la fonction avec le dictionnaire modifié.\n",
    "        L = creation_liste_arbres(dict_de_lettres) + [arbre]\n",
    "        \n",
    "        # L'élément supprimé ci-dessus est remis dans le dictionnaire pour ne pas le modifier.\n",
    "        dict_de_lettres[lettre] = poids\n",
    "        \n",
    "        # Retour de la liste\n",
    "        return L\n",
    "\n",
    "dictionnaire_apparitions_mot_Hello = dico_apparition_par_charactere('Hello')\n",
    "liste = [Arbre(None, None, 'o',1), Arbre(None, None,'l',2), Arbre(None, None,'e',1), Arbre(None, None,'H',1)]\n",
    "\n",
    "assert creation_liste_arbres(dictionnaire_apparitions_mot_Hello) == liste"
   ]
  },
  {
   "cell_type": "markdown",
   "metadata": {},
   "source": [
    "#### B. Rechercher le minimum\n",
    "\n",
    "Pour créer un arbre de Huffman, nous devons d'abord chercher les 2 caractères les plus rares dans le texte. Nous créons donc une fonction `supprime_et_retourne_minimum_tab_arbre` qui cherche l'arbre avec le poids le plus petit dans une liste d'arbres, le supprime et le retourne. Nous retournons également la liste modifiée, qui nous servira par la suite, pour créer notre arbre de Huffman."
   ]
  },
  {
   "cell_type": "code",
   "execution_count": 201,
   "metadata": {},
   "outputs": [],
   "source": [
    "def supprime_et_retourne_minimum_tab_arbre(tab_arbre):\n",
    "    \"\"\"\n",
    "    list -> arbre, list\n",
    "    Retourne l'arbre au plus petit poids ainsi que la liste sans cet arbre\n",
    "    \"\"\"\n",
    "    \n",
    "    if len(tab_arbre) == 0:\n",
    "        return None, []\n",
    "\n",
    "    # Nous prenons le dernier arbre de la liste en tant que référence, pour pouvoir ensuite le comparé aux autres.\n",
    "    arbre = tab_arbre[len(tab_arbre)-1]\n",
    "    \n",
    "    # L'index nous permettra à la fin de la fonction de supprimer l'arbre trouvé, afin qu'il ne soit plus dans la liste.\n",
    "    # L'index vaut ici la longeur du tableau moins 1, car nous avons séléctionné le dernier arbre du tableau.\n",
    "    index_arbre = len(tab_arbre)-1\n",
    "    \n",
    "    # Il nous suffit ensuite de comparer l'arbre séléctionné aux autres, pour sélectionner celui au plus petit poids.\n",
    "    for i in range(len(tab_arbre)):\n",
    "        \n",
    "        # On sélectionne un arbre\n",
    "        a = tab_arbre[i]\n",
    "        \n",
    "        # On compare son poids\n",
    "        if a.donne_poids() < arbre.donne_poids():\n",
    "            \n",
    "            # Puis si cet arbre a un poids inférieur, alors on met à jour notre arbre de référence et notre index\n",
    "            arbre = a\n",
    "            index_arbre = i\n",
    "            \n",
    "    # Nous supprimons l'arbre du tableau.\n",
    "    tab_arbre.pop(index_arbre)\n",
    "    \n",
    "    # Retour de l'arbre, et du nouveau tableau.\n",
    "    return arbre, tab_arbre\n",
    "\n",
    "\n",
    "# Dans notre exemple 'Hello', le dernier élément de la liste est la lettre H.\n",
    "liste = creation_liste_arbres(dictionnaire_apparitions_mot_Hello)\n",
    "\n",
    "# Cette lettre est l'une des plus rares, c'est donc celle-ci que l'on va sélectionné et supprimer de la liste.\n",
    "nouvelle_liste = [Arbre(None, None, 'o',1), Arbre(None, None,'l',2), Arbre(None, None,'e',1)]\n",
    "\n",
    "# Dans notre exemple 'Hello', 3 lettres ont un poids de 1. \n",
    "# L'ordre de la liste peut donc différer. Ainsi, l'assert suivant peut ne pas fonctionner.\n",
    "# Il est donné à titre d'exemple, pour la compréhension\n",
    "# assert supprime_et_retourne_minimum_tab_arbre(liste) == (Arbre(None, None,'H',1), nouvelle_liste)\n",
    "\n",
    "liste = creation_liste_arbres(dico_apparition_par_charactere('b aaa'))\n",
    "nouvelle_liste = [Arbre(None, None, 'a', 3), Arbre(None, None, ' ', 1)]\n",
    "assert supprime_et_retourne_minimum_tab_arbre(liste) == (Arbre(None, None, 'b', 1), nouvelle_liste)\n",
    "\n",
    "liste = creation_liste_arbres(dico_apparition_par_charactere('A'))\n",
    "assert supprime_et_retourne_minimum_tab_arbre(liste) == (Arbre(None, None, 'A', 1), [])"
   ]
  },
  {
   "cell_type": "markdown",
   "metadata": {},
   "source": [
    "#### C. Création de l'arbre de Huffman\n",
    "\n",
    "Nous avons maintenant tous les éléments nécessaires pour créer notre arbre de Huffman. Le principe de la création se décompose en 3 étapes : \n",
    "\n",
    "1. On cherche les deux feuilles qui ont le plus petit poids, renvoyées par deux appeles à `supprime_et_retourne_minimal_tab_arbre`\n",
    "2. On les assemble dans un nouvel arbre (le plus fréquent à gauche)\n",
    "3. On ajoute ce nouvel arbre à la liste"
   ]
  },
  {
   "cell_type": "code",
   "execution_count": 209,
   "metadata": {},
   "outputs": [],
   "source": [
    "def creation_arbre_huffman(tab_arbre):\n",
    "    \"\"\"\n",
    "    list -> Arbre\n",
    "    Retourne un arbre de Huffman à partir d'un tableau d'arbre.\n",
    "    \"\"\"\n",
    "    \n",
    "    if len(tab_arbre) == 1:\n",
    "        return tab_arbre[0]\n",
    "    elif len(tab_arbre) == 0:\n",
    "        return None\n",
    "    \n",
    "    # On effectue les étapes décrites ci-dessus jusqu'à ce qu'il ne reste que 2 arbres dans le tableau.\n",
    "    while len(tab_arbre) > 2:\n",
    "        # Etape 1 : on cherche les 2 minimums (et on met à jour le tableau)\n",
    "        arbre1, tab_arbre = supprime_et_retourne_minimum_tab_arbre(tab_arbre)\n",
    "        arbre2, tab_arbre = supprime_et_retourne_minimum_tab_arbre(tab_arbre)\n",
    "        \n",
    "        # Etape 2 : on les assemble dans un arbre avec le plus fréquent à gauche\n",
    "        _arbre = Arbre(arbre2, arbre1)\n",
    "        \n",
    "        # Etape 3 : on ajoute cet arbre à la liste\n",
    "        tab_arbre.append(_arbre)\n",
    "\n",
    "    # Il ne reste que deux arbres, on peut alors les assembler dans un arbre\n",
    "    fd, tab_arbre = supprime_et_retourne_minimum_tab_arbre(tab_arbre)\n",
    "    fg, tab_arbre = supprime_et_retourne_minimum_tab_arbre(tab_arbre)\n",
    "    \n",
    "    return Arbre(fg, fd)\n",
    "\n",
    "\n",
    "\n",
    "dictionnaire = dico_apparition_par_charactere('Hello')\n",
    "liste_arbres = creation_liste_arbres(dictionnaire)\n",
    "arbre_huffman = Arbre(Arbre(Arbre(Arbre(None, None,'e',1),Arbre(None,None,'H',1),'eH',2), Arbre(None,None,'o',1),'eHo',3),Arbre(None,None,'l',2),'eHol',5)\n",
    "assert creation_arbre_huffman(liste_arbres) == arbre_huffman\n",
    "\n",
    "dictionnaire = dico_apparition_par_charactere('b aaa')\n",
    "liste_arbres = creation_liste_arbres(dictionnaire)\n",
    "arbre = creation_arbre_huffman(liste_arbres)\n",
    "assert arbre == Arbre(Arbre(None,None,'a',3), Arbre(Arbre(None,None,' ',1), Arbre(None,None,'b',1),' b',2),'a b',5)"
   ]
  },
  {
   "cell_type": "markdown",
   "metadata": {},
   "source": [
    "## Partie 3 : Encodage et Décodage <a name=\"3\"></a>\n",
    "\n",
    "### A. Encodage\n",
    "\n",
    "Pour encoder le texte, il faut, à partir de l'arbre, associer à chaque lettre un code. Les codes trouvés seront stockés dans un dictionnaire avec pour clés les lettres associées.\n",
    "\n",
    "#### 1. Trouvons le chemin\n",
    "\n",
    "Nous devons donc trouver le chemin (le code) de chaque lettre. Voici le procédé à suivre pour chaque lettre avec notre arbre de Huffman :\n",
    "\n",
    "- si la lettre est à droit du noeud, on ajoute un '1' au code\n",
    "- si la lettre est à gauche du noeud, on ajoute un '0'\n",
    "- on recommence à partir du nouveau noeud (fils droit ou fils gauche) jusqu'à tomber sur une feuille\n",
    "\n",
    "La difficulté est de savoir algorithmiquement si nous devons aller à droite ou à gauche. Pour nous aider, nous avons créer la méthode `calculer_lettres` dans la classe `Arbre`, qui est appelée pour tous les noeuds non feuilles. Voici les étapes que nous allons suivre à partir de la racine : \n",
    "\n",
    "- on regarde dans le fils gauche si dans toute les lettres il y a celle que nous cherchons\n",
    "- si elle y est, on ajoute un 0 et on continue dans ce sous arbre\n",
    "- si elle n'y est pas, on ajoute un 1 et on continue dans le sous arbre droit\n",
    "- (le cas où la lettre n'est dans aucun des arbres n'existes pas, car nous appelons notre fonction de chemin pour toutes les lettres du texte, qui sont donc dans l'arbre)."
   ]
  },
  {
   "cell_type": "code",
   "execution_count": 211,
   "metadata": {},
   "outputs": [],
   "source": [
    "def chemin_lettre(l, arbre):\n",
    "    \"\"\"\n",
    "    string, Arbre -> string\n",
    "    Retourne le chemin de la lettre 'l' dans l'arbre 'arbre' depuis la racine.\n",
    "    \"\"\"\n",
    "    \n",
    "    #  Si l'arbre est None, nous ne faisons rien car nous avons trouvé la lettre.\n",
    "    if arbre is not None:\n",
    "        \n",
    "        # Initialisation du chemin\n",
    "        chemin = ''\n",
    "        \n",
    "        # On regarde d'abord si le fils gauche existe.\n",
    "        # Puis on regarde si la lettre cherchée est contenue dans toute les lettres dans ce sous arbre gauche.\n",
    "        if arbre.fils_gauche() is not None and l in arbre.fils_gauche().donnee():\n",
    "            # si oui, alors on ajoute 0 au chemin\n",
    "            chemin += '0'\n",
    "            # on calcule la suite du chemin récursivement\n",
    "            chemin_suivant = chemin_lettre(l, arbre.fils_gauche())\n",
    "            # s'il ne vaut pas None, on l'ajoute\n",
    "            if chemin_suivant is not None:\n",
    "                chemin += chemin_suivant\n",
    "                \n",
    "        # Si la lettre n'est pas à gauche, on regarde si le fils droit existe.\n",
    "        # Puis on regarde si la lettre cherchée est contenue dans toute les lettres dans ce sous arbre droit.\n",
    "        elif arbre.fils_droit() is not None and l in arbre.fils_droit().donnee():\n",
    "            # si oui, alors on ajoute 1 au chemin\n",
    "            chemin += '1'\n",
    "            # on calcule la suite du chemin récursivement\n",
    "            chemin_suivant = chemin_lettre(l, arbre.fils_droit())\n",
    "            # s'il ne vaut pas None, on l'ajoute\n",
    "            if chemin_suivant is not None:\n",
    "                chemin += chemin_suivant\n",
    "        \n",
    "        # on renvoie le chemin\n",
    "        return chemin"
   ]
  },
  {
   "cell_type": "markdown",
   "metadata": {},
   "source": [
    "##### Vérification de la fonction `chemin_lettre`\n",
    "\n",
    "En reprenant le schéma de l'arbre du mot 'Hello' proposé au début de ce notebook, on remarque que pour la lettre 'H', il faut suivre le chemin suivant : gauche, gauche, droite. Ce qui correspond au code '001'. Vérifions cela :"
   ]
  },
  {
   "cell_type": "code",
   "execution_count": 8,
   "metadata": {},
   "outputs": [],
   "source": [
    "assert chemin_lettre('H', arbre_huffman) == '001'"
   ]
  },
  {
   "cell_type": "markdown",
   "metadata": {},
   "source": [
    "#### 2. Dictionnaire de codes\n",
    "\n",
    "Nous pouvons, à partir de la fonction `chemin_lettre` crée un dicitonnaire de codes pour chacune des lettres."
   ]
  },
  {
   "cell_type": "code",
   "execution_count": 213,
   "metadata": {},
   "outputs": [],
   "source": [
    "def dico_codes(dico_apparition, arbre_huffman):\n",
    "    \"\"\"\n",
    "    dict, Arbre -> dict\n",
    "    Retourne un dictionnaire de code à l'aide de l'arbre de Huffman.\n",
    "    \"\"\"\n",
    "    \n",
    "    # Initialisation du dictionnaire.\n",
    "    dict_de_codes = {}\n",
    "    \n",
    "    # On parcourt toutes les lettres (les clés) pour leur associer un code\n",
    "    for clé in dico_apparition.keys():\n",
    "        dict_de_codes[clé] = chemin_lettre(clé, arbre_huffman)\n",
    "        \n",
    "    return dict_de_codes\n",
    "\n",
    "\n",
    "dico_apparition = dico_apparition_par_charactere('Hello')\n",
    "assert dico_codes(dico_apparition, arbre_huffman) == {'H': '001', 'e': '000', 'l': '1', 'o': '01'}"
   ]
  },
  {
   "cell_type": "markdown",
   "metadata": {},
   "source": [
    "#### 3. Encodons du texte !\n",
    "\n",
    "Maintenant que nous avons un code associé à chaque caractère, il nous suffit d'ajouter leur code à une chaîne de caractères, qui représentera le texte encodé."
   ]
  },
  {
   "cell_type": "code",
   "execution_count": 214,
   "metadata": {},
   "outputs": [],
   "source": [
    "def encode_texte(texte, dico_codes):\n",
    "    \"\"\"\n",
    "    string, dict -> string\n",
    "    Retourne le texte encodé selon le dictionnaire de codes.\n",
    "    \"\"\"\n",
    "    \n",
    "    # Initialisation de notre texte encodé\n",
    "    texte_encode = ''\n",
    "    \n",
    "    # Pour chaque caractère, on ajoute son code respectif\n",
    "    for caractère in texte:\n",
    "        texte_encode += dico_codes[caractère]\n",
    "        \n",
    "    \n",
    "    return texte_encode"
   ]
  },
  {
   "cell_type": "markdown",
   "metadata": {},
   "source": [
    "##### Vérification de la fonction `encode_texte`"
   ]
  },
  {
   "cell_type": "markdown",
   "metadata": {},
   "source": [
    "Reprenons notre arbre donné en exemple, avec le mot 'Hello'. Avec le principe d'encodage décrit ci-dessus, lettre par lettre, créons le texte encodé.\n",
    "\n",
    "- H : gauche, gauche, droite -> 001\n",
    "- e : gauche, gauche, gauche -> 000\n",
    "- l : droite -> 1\n",
    "- l : droite -> 1\n",
    "- 0 : gauche, droite -> 01\n",
    "\n",
    "Ainsi, nous avons le code : 0010001101 en concaténant tous les codes trouvés.\n",
    "Vérifions donc notre fonction."
   ]
  },
  {
   "cell_type": "code",
   "execution_count": 218,
   "metadata": {},
   "outputs": [],
   "source": [
    "dictionnaire_codes = dico_codes(dico_apparition, arbre_huffman)\n",
    "assert encode_texte('Hello', dictionnaire_codes) == '0010001101'\n",
    "\n",
    "\n",
    "# Selon le même principe, avec le texte 'Hello World'\n",
    "arbre_huffman_Hello_World = creation_arbre_huffman(creation_liste_arbres(dico_apparition_par_charactere('Hello World')))\n",
    "dictionnaire_codes_Hello_World = dico_codes(dico_apparition_par_charactere('Hello World'), arbre_huffman_Hello_World)\n",
    "texte_code_Hello_World = encode_texte('Hello World', dictionnaire_codes_Hello_World)\n",
    "assert texte_code_Hello_World == '00010000010100111011100110001101'"
   ]
  },
  {
   "cell_type": "markdown",
   "metadata": {},
   "source": [
    "### B. Décodage\n",
    "\n",
    "Pour décoder le texte, il nous suffit d'effectuer le processus dans le sens inverse : à partir des valeurs du dictionnaire (les codes), concaténer les clés (les caractères).\n",
    "\n",
    "Les codes n'étant pas séparés pas des espaces, nous devons mettre en place un système qui nous permettent de différencier tous les codes. Pour cela, à chaque nouveau chiffre du code, nous allons regarder s'il est présent dans les valeurs du dictionnaire. Si ce n'est pas le cas, on garde ce chiffre en mémoire, et on y ajoute le suivant. Si c'est le cas, alors on ajoute au texte décodé la clé, et on remet à blanc nos chiffres gardés en mémoire."
   ]
  },
  {
   "cell_type": "code",
   "execution_count": 219,
   "metadata": {},
   "outputs": [],
   "source": [
    "def decode_text(texte_encode, codes):\n",
    "    \"\"\"\n",
    "    string, dict -> string\n",
    "    Retourne le texte décodé à partir d'un dictionnaire de codes.\n",
    "    \"\"\"\n",
    "    \n",
    "    # Initialisation du texte décodé\n",
    "    texte_decode = ''\n",
    "    \n",
    "    # Initialisation du code que l'on va gardé en mémoire\n",
    "    code = ''\n",
    "    \n",
    "    # On boucle sur tous les chiffres du texte encodé\n",
    "    for n in texte_encode:\n",
    "        \n",
    "        # On ajoute à notre code gardé en mémoire le chiffre\n",
    "        code += n\n",
    "        \n",
    "        # On vérifie si ce code est présent dans les valeurs.\n",
    "        if code in codes.values():\n",
    "            \n",
    "            # Si c'est le cas, on ajoute le caractère correspondant au code :\n",
    "            # - conversin des clés en tableau\n",
    "            # - conversion des valeurs en tableau\n",
    "            # - sélection de la clé qui a le même index que le code\n",
    "            texte_decode += list(codes.keys())[list(codes.values()).index(code)]\n",
    "            \n",
    "            # On remet à blanc notre code gardé en mémoire\n",
    "            code = ''\n",
    "    \n",
    "    # On renvoie notre texte décodé\n",
    "    return texte_decode\n",
    "\n",
    "assert decode_text('0010001101', dictionnaire_codes) == 'Hello'\n",
    "\n",
    "# Selon le même principe et d'après l'assert de la cellule python précedénte, on obtient :\n",
    "assert decode_text('00010000010100111011100110001101', dictionnaire_codes_Hello_World) == 'Hello World'"
   ]
  },
  {
   "cell_type": "markdown",
   "metadata": {},
   "source": [
    "## Partie 4 : Fonctions principales <a name=\"4\"></a>\n",
    "\n",
    "Avec toutes les fonctions précédentes, nous pouvons créer deux nouvelles fonctions principales. L'une codera un texte et créera un dictionnaire de codes pour le décoder, et l'autre décodera le texte codé à l'aide de ce dictionnaire."
   ]
  },
  {
   "cell_type": "code",
   "execution_count": 232,
   "metadata": {},
   "outputs": [],
   "source": [
    "def encoder_un_texte(texte):\n",
    "    \"\"\"\n",
    "    string -> string, dict\n",
    "    Retourne le texte codé avec le dictionnaire de codes pour le décoder.\n",
    "    \"\"\"\n",
    "    \n",
    "    # Dictionnaire du nombre d'apparitions de chaque caractère dans le texte\n",
    "    dictionnaire_poids = dico_apparition_par_charactere(texte)\n",
    "    \n",
    "    # Création d'un arbre de huffman\n",
    "    liste_arbres = creation_liste_arbres(dictionnaire_poids)\n",
    "    arbre_huffman = creation_arbre_huffman(liste_arbres)\n",
    "    \n",
    "    # Dicionnaire des codes\n",
    "    dictionnaire_codes = dico_codes(dictionnaire_poids, arbre_huffman)\n",
    "    \n",
    "    # Encodage\n",
    "    texte_encode = encode_texte(texte, dictionnaire_codes)\n",
    "    \n",
    "    return texte_encode, dictionnaire_codes\n",
    "\n",
    "assert encoder_un_texte('Hello') == ('0010001101', {'o': '01', 'l': '1', 'e': '000', 'H': '001'})"
   ]
  },
  {
   "cell_type": "code",
   "execution_count": 237,
   "metadata": {},
   "outputs": [],
   "source": [
    "def decoder_un_texte(texte, dictionnaire_codes):\n",
    "    \"\"\"\n",
    "    string, dict -> string\n",
    "    Retourne le texte décodé grace au dictionnaire de codes.\n",
    "    \"\"\"\n",
    "    \n",
    "    # Dictionnaire du nombre d'apparitions de chaque caractère dans le texte\n",
    "    dictionnaire_poids = dico_apparition_par_charactere(texte)\n",
    "    \n",
    "    # Création d'un arbre de huffman\n",
    "    liste_arbres = creation_liste_arbres(dictionnaire_poids)\n",
    "    arbre_huffman = creation_arbre_huffman(liste_arbres)\n",
    "    \n",
    "    # Décodage\n",
    "    texte_decodé = decode_text(texte, dictionnaire_codes)\n",
    "    \n",
    "    return texte_decodé\n",
    "\n",
    "\n",
    "assert decoder_un_texte('0010001101', {'o': '01', 'l': '1', 'e': '000', 'H': '001'}) == 'Hello'\n",
    "\n",
    "texte = 'Hello World'\n",
    "texte_codé, dictionnaire_codes = encoder_un_texte(texte)\n",
    "\n",
    "assert decoder_un_texte(texte_codé, dictionnaire_codes) == texte"
   ]
  },
  {
   "cell_type": "markdown",
   "metadata": {},
   "source": [
    "## Partie 5 : Pour aller plus loin <a name=\"5\"></a>\n",
    "\n",
    "### A. Combien de bits avons nous gagnés ?\n",
    "\n",
    "Nous avons réussi à coder et décoder un texte selon le principe défini par Huffman. Cette méthode permet de réduite la taille d'un fichier. Dans un texte classique, dans la plupart des cas, les caractères sont encodés selon le code ASCII qui utilisent 7 bits par caractère. Avec notre système, nous devrions avoir donc avoir un nombre de bits inférieur.\n",
    "\n",
    "Pour nous en rendre compte, nous pouvons créer une fonction `donne_gain` qui renvoie le gain fait grâce à ce nouveau système."
   ]
  },
  {
   "cell_type": "code",
   "execution_count": 242,
   "metadata": {},
   "outputs": [
    {
     "name": "stdout",
     "output_type": "stream",
     "text": [
      "Pour 'Hello': 25\n",
      "Pour 'Hello World': 45\n"
     ]
    }
   ],
   "source": [
    "def donne_gain(texte_decode, texte_encode):\n",
    "    \"\"\"\n",
    "    string, string -> int\n",
    "    Retourne le nombre de bits gagnés grâce à l'encodage de Huffman.\n",
    "    \"\"\"\n",
    "    \n",
    "    # Chaque caractère est codé sur 7 bits\n",
    "    bits_texte_non_encodé = len(texte_decode) * 7\n",
    "    \n",
    "    # Un chiffre du texte codé représente un bit (0 ou 1)\n",
    "    bits_texte_encodé = len(texte_encode)\n",
    "    \n",
    "    # Retour du gain\n",
    "    return bits_texte_non_encodé - bits_texte_encodé\n",
    "\n",
    "print('Pour \\'Hello\\':',donne_gain('Hello', '0010001101'))\n",
    "print('Pour \\'Hello World\\':', donne_gain('Hello World', '00010000010100111011100110001101'))"
   ]
  },
  {
   "cell_type": "markdown",
   "metadata": {},
   "source": [
    "Ainsi, bien que le texte codé paraisse plus long, nous avons économisé 25 et 45 bits. A grande échelle ce système peut donc se rélever très intéressant."
   ]
  },
  {
   "cell_type": "markdown",
   "metadata": {},
   "source": [
    "### B. Depuis un fichier séparé\n",
    "\n",
    "#### 1. Encoder\n",
    "\n",
    "Grâce aux deux fonctions principales écites plus haut, il est simple de coder et décoder des petits textes. Mais comment faire si nous avons un texte très grand ? Le copier puis le coller peut prendre du temps, et n'est pas très commode dans un fichier python ou un notebook. \n",
    "\n",
    "Pour résoudre ce problème, nous pouvons créer une fonction `encode_depuis_fichier_vers_fichier` qui ira chercher notre fichier texte (situé dans le même dossier), et à partir du texte trouvé, créera un nouveau fichier texte avec le texte codé ainsi qu'un fichier contenant le dictionnaire de codes pour décoder.\n",
    "\n",
    "Pour cela, nous utiliserons la fonction python `open()` avec deux arguments : \n",
    "\n",
    "- le premier est le nom du fichier à trouver ou à créer\n",
    "- le deuxième gère la demande d'accès au fichier. Dans notre cas il vaut soit 'r' (pour 'read') pour lire le fichier, soit 'w+' (pour 'write') pour écrire dans le fichier\n",
    "\n",
    "De plus, nous devrons utiliser `write()` qui permet d'écrire dans un fichier, ainsi que `close()` pour fermer le fichier une fois que nous aurons terminé de l'utiliser.\n",
    "\n",
    "Enfin, pour écrire le dictionnaire de code, nous avons besoin de la bibliothèque `json` et sa fonction `dumps()` pour convertir un dict en string."
   ]
  },
  {
   "cell_type": "code",
   "execution_count": 244,
   "metadata": {},
   "outputs": [],
   "source": [
    "import json # Importation de la bibliothèque json\n",
    "\n",
    "def encode_depuis_fichier_vers_fichier(nom_fichier_source, nom_fichier_destination, nom_fichier_codes):\n",
    "    \"\"\"\n",
    "    string, string, string -> None\n",
    "    Créer un fichier texte au nom de nom_fichier_destination dans lequel figure le texte encodé. \n",
    "    Créer un second fichier texte du nom de nom_fichier_codes où se trouve le dictionnaire de codes pour décoder.\n",
    "    \"\"\"\n",
    "    \n",
    "    # On ouvre le fichier avec le texte à encoder pour le lire\n",
    "    fichier = open(nom_fichier_source, 'r')\n",
    "    \n",
    "    # On copie le texte\n",
    "    texte = fichier.read()\n",
    "    \n",
    "    # On ferme le fichier\n",
    "    fichier.close()\n",
    "    \n",
    "    # On encode le texte\n",
    "    texte_encode, dict_codes = encoder_un_texte(texte)\n",
    "    \n",
    "    # On créer le fichier du texte encodé pour écrire\n",
    "    fichier_dest = open(nom_fichier_destination, 'w+')\n",
    "    \n",
    "    # On écrit dans le fichier le texte encodé\n",
    "    fichier_dest.write(texte_encode)\n",
    "    \n",
    "    # On ferme ce fichier\n",
    "    fichier_dest.close()\n",
    "    \n",
    "    # On créer le fichier pour stocker le dictionnaire de code pour écrire\n",
    "    fichier_codes = open(nom_fichier_codes, 'w+')\n",
    "    \n",
    "    # On convertit le dictionnaire en string\n",
    "    dict_en_string = json.dumps(dict_codes)\n",
    "    \n",
    "    # On écrit les codes\n",
    "    fichier_codes.write(dict_en_string)\n",
    "    # On ferme ce fichier\n",
    "    fichier_codes.close()\n",
    "    \n",
    "    \n",
    "encode_depuis_fichier_vers_fichier('texte_source.txt', 'texte_destination.txt', 'codes.txt')"
   ]
  },
  {
   "cell_type": "markdown",
   "metadata": {},
   "source": [
    "Pour vérifier cette fonction, il nous suffit de regarder dans le répertoire courant et de s'assurer de la précense des deux nouveaux fichiers qui devrait contenir le texte encodé pour l'un, et le dictionnaire de codes pour l'autre."
   ]
  },
  {
   "cell_type": "markdown",
   "metadata": {},
   "source": [
    "#### 2. Décoder\n",
    "\n",
    "De la même manière, nous pouvons créer une fontion `decode_depuis_fichier_vers_fichier` qui depuis un fichier source du texte codé et avec un fichier de codes, créer un nouveau fichier avec le texte décodé.\n",
    "\n",
    "Cependant, le dictionnaire étant devenu du type string, nous devons réutiliser la bibliothèque `json` et la fonction `loads()` pour convertir du string vers dict."
   ]
  },
  {
   "cell_type": "code",
   "execution_count": 245,
   "metadata": {},
   "outputs": [],
   "source": [
    "import json # Importation de la bibliothèque json\n",
    "\n",
    "def décode_depuis_fichier_vers_fichier(nom_fichier_texte_codé, nom_fichier_codes, nom_fichier_destination):\n",
    "    \"\"\"\n",
    "    stirng, string, string -> None\n",
    "    Créer un fichier avec le texte décodé, à partir d'un texte codé et d'un dictionnaire de codes.\n",
    "    \"\"\"\n",
    "    \n",
    "    # On ouvre le fichier avec le texte à décoder pour le lire\n",
    "    fichier = open(nom_fichier_texte_codé, 'r')\n",
    "    # On copie le texte\n",
    "    texte_codé = fichier.read()\n",
    "    # On ferme le fichier\n",
    "    fichier.close()\n",
    "    \n",
    "    # On ouvre le fichier avec les codes pour le lire\n",
    "    fichier = open(nom_fichier_codes, 'r')\n",
    "    # On copie le texte\n",
    "    texte_codes = fichier.read()\n",
    "    # On ferme le fichier\n",
    "    fichier.close()\n",
    "    # On convertit le texte des codes en dictionnaire\n",
    "    dict_codes = json.loads(texte_codes)\n",
    "    \n",
    "    # On créer le fichier pour le texte décodé\n",
    "    fichier = open(nom_fichier_destination, 'w+')\n",
    "    # On y écrit le texte décodé\n",
    "    fichier.write(decoder_un_texte(texte_codé, dict_codes))\n",
    "    # On ferme le fichier\n",
    "    fichier.close()\n",
    "    \n",
    "décode_depuis_fichier_vers_fichier('texte_destination.txt', 'codes.txt', 'texte_décodé.txt')"
   ]
  },
  {
   "cell_type": "markdown",
   "metadata": {},
   "source": [
    "On pourra remarquer un nouveau fichier nommé 'texte_décodé', qui contient le même texte que le fichier 'texte_source'. Nous avons donc réussi à lire un texte, le coder, puis le décoder."
   ]
  },
  {
   "cell_type": "markdown",
   "metadata": {},
   "source": [
    "## Conclusion <a name=\"ccl\"></a>\n",
    "\n",
    "Nous avons vu comment à partir d'un texte, il est possible de créer un nouveau texte d'une plus petite taille. On dit qu'on a \"compressé\" le texte.\n",
    "\n",
    "A noter que pour que ce système marche, il faut donner au décodeur le dictionnaire de codes."
   ]
  },
  {
   "cell_type": "code",
   "execution_count": null,
   "metadata": {},
   "outputs": [],
   "source": []
  }
 ],
 "metadata": {
  "kernelspec": {
   "display_name": "Python 3",
   "language": "python",
   "name": "python3"
  },
  "language_info": {
   "codemirror_mode": {
    "name": "ipython",
    "version": 3
   },
   "file_extension": ".py",
   "mimetype": "text/x-python",
   "name": "python",
   "nbconvert_exporter": "python",
   "pygments_lexer": "ipython3",
   "version": "3.8.3rc1"
  }
 },
 "nbformat": 4,
 "nbformat_minor": 4
}
